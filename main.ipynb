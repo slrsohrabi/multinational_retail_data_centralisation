{
 "cells": [
  {
   "cell_type": "code",
   "execution_count": null,
   "metadata": {},
   "outputs": [],
   "source": [
    "from data_extraction import DataExtractor\n",
    "from database_utils import DatabaseConnector\n",
    "#from data_upload import DataLoader\n",
    "# from data_extraction import DataExtractor\n",
    "#from data_cleaning import DataCleaning"
   ]
  },
  {
   "cell_type": "markdown",
   "metadata": {},
   "source": []
  },
  {
   "cell_type": "code",
   "execution_count": null,
   "metadata": {},
   "outputs": [],
   "source": [
    "# Initialize DatabaseConnector\n",
    "db_connector = DatabaseConnector()\n",
    "\n",
    "#read database credentials from YAML file and initialize database engine\n",
    "cred_data = db_connector.read_db_creds()\n",
    "engine = db_connector.init_db_engine(cred_data)\n",
    "print(engine)\n",
    "    \n",
    "#initialize DataExtractor \n",
    "extractor = DataExtractor(engine)\n",
    "\n",
    "#get the names of all tables in the database\n",
    "tables = db_connector.list_db_tables(engine)\n",
    "\n",
    "#loop through each table and extract data into a DataFrame\n",
    "for table_name in tables:\n",
    "    df = extractor.read_rds_table(table_name)\n",
    "    df.to_csv(table_name+'.csv') "
   ]
  },
  {
   "cell_type": "code",
   "execution_count": null,
   "metadata": {},
   "outputs": [],
   "source": [
    "import pandas as pd \n",
    "\n",
    "df = pd.read_csv('legacy_users.csv')\n",
    "print(df['country'].value_counts())"
   ]
  },
  {
   "cell_type": "code",
   "execution_count": null,
   "metadata": {},
   "outputs": [],
   "source": [
    "# Cleaning data\n",
    "from data_cleaning import DataCleaning\n",
    "\n",
    "data_cleaner = DataCleaning()\n",
    "df = pd.read_csv('legacy_users.csv')\n",
    "print(df)\n",
    "df = data_cleaner.clean_user_data(df)\n",
    "df = df.reset_index(drop=True)\n",
    "df.drop(df.columns[0:2], axis=1, inplace=True)\n",
    "print(df)\n",
    "# df.to_csv('clean_legacy_users.csv')"
   ]
  },
  {
   "cell_type": "code",
   "execution_count": null,
   "metadata": {},
   "outputs": [],
   "source": [
    "# Uploading to postgres database \n",
    "from data_upload import DataLoader\n",
    "    \n",
    "df = pd.read_csv('clean_legacy_users.csv')\n",
    "db_connector = DatabaseConnector()\n",
    "cred_data = db_connector.read_local_creds()\n",
    "local_engine = db_connector.local_db_engine(cred_data)\n",
    "\n",
    "data_loader = DataLoader(local_engine)\n",
    "data_loader.upload_to_db(df,'clean_legacy_user') "
   ]
  },
  {
   "cell_type": "code",
   "execution_count": null,
   "metadata": {},
   "outputs": [],
   "source": [
    "import pandas as pd \n",
    "\n",
    "link = \"https://data-handling-public.s3.eu-west-1.amazonaws.com/card_details.pdf\"\n",
    "db_connector = DatabaseConnector()\n",
    "cred_data = db_connector.read_db_creds()\n",
    "engine = db_connector.init_db_engine(cred_data)\n",
    "pdf_extractor = DataExtractor(engine)\n",
    "df = pdf_extractor.retrieve_pdf_data(link)\n",
    "print(type(df))\n",
    "print(df)\n",
    "df[0].to_csv('card_details.csv',index= False)\n",
    " "
   ]
  },
  {
   "cell_type": "code",
   "execution_count": null,
   "metadata": {},
   "outputs": [],
   "source": [
    "from data_cleaning import DataCleaning\n",
    "from data_upload import DataLoader\n",
    "\n",
    "\n",
    "data_cleaner = DataCleaning()\n",
    "df = pd.read_csv('card_details.csv')\n",
    "df = data_cleaner.clean_card_data(df)\n",
    "df.to_csv('clean_card_details.csv')\n",
    "\n",
    "# Uploading to postgres database \n",
    "db_connector = DatabaseConnector()\n",
    "cred_data = db_connector.read_local_creds()\n",
    "local_engine = db_connector.local_db_engine(cred_data)\n",
    "\n",
    "data_loader = DataLoader(local_engine)\n",
    "data_loader.upload_to_db(df,'clean_card_details') \n",
    "\n",
    "\n",
    "####Only getting 55 rows?1?!?!?!?!?"
   ]
  },
  {
   "cell_type": "code",
   "execution_count": null,
   "metadata": {},
   "outputs": [],
   "source": [
    "# The store data can be retrieved through the use of an API.\n",
    "from data_extraction import DataExtractor\n",
    "\n",
    "header_dict = {'x-api-key' : 'yFBQbwXe9J3sd6zWVAMrK6lcxxr0q1lr2PT6DDMX.'}\n",
    "store_retrieve = 'https://aqj7u5id95.execute-api.eu-west-1.amazonaws.com/prod/store_details/{store_number}'\n",
    "storenum_endp= 'https://aqj7u5id95.execute-api.eu-west-1.amazonaws.com/prod/number_stores'\n",
    "\n",
    "data_extractor = DataExtractor(engine) # engine being problematic?!?!?!?!?!\n",
    "print(data_extractor.list_number_of_stores(storenum_endp,header_dict))"
   ]
  },
  {
   "cell_type": "code",
   "execution_count": null,
   "metadata": {},
   "outputs": [],
   "source": []
  }
 ],
 "metadata": {
  "kernelspec": {
   "display_name": "Python 3",
   "language": "python",
   "name": "python3"
  },
  "language_info": {
   "codemirror_mode": {
    "name": "ipython",
    "version": 3
   },
   "file_extension": ".py",
   "mimetype": "text/x-python",
   "name": "python",
   "nbconvert_exporter": "python",
   "pygments_lexer": "ipython3",
   "version": "3.12.2"
  }
 },
 "nbformat": 4,
 "nbformat_minor": 2
}
